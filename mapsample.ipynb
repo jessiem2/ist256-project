{
 "cells": [
  {
   "cell_type": "code",
   "execution_count": null,
   "metadata": {},
   "outputs": [],
   "source": [
    "import folium\n",
    "center = (0, 0)\n",
    "country_geojson = 'https://raw.githubusercontent.com/datasets/geo-countries/master/data/countries.geojson'\n",
    "map1 = folium.Map(location=center, zoom_start=2)\n",
    "folium.Choropleth(geo_data=country_geojson).add_to(map1)\n",
    "\n",
    "map1"
   ]
  }
 ],
 "metadata": {
  "kernelspec": {
   "display_name": "Python 3",
   "language": "python",
   "name": "python3"
  },
  "language_info": {
   "codemirror_mode": {
    "name": "ipython",
    "version": 3
   },
   "file_extension": ".py",
   "mimetype": "text/x-python",
   "name": "python",
   "nbconvert_exporter": "python",
   "pygments_lexer": "ipython3",
   "version": "3.7.6"
  }
 },
 "nbformat": 4,
 "nbformat_minor": 2
}
