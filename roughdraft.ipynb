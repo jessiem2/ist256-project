{
 "cells": [
  {
   "cell_type": "code",
   "execution_count": 10,
   "metadata": {
    "scrolled": true
   },
   "outputs": [],
   "source": [
    "import requests\n",
    "import pandas as pd\n",
    "import numpy as np\n",
    "import warnings\n",
    "warnings.filterwarnings('ignore')\n",
    "\n",
    "\n",
    "maxsongs = 5\n",
    "apikey = '58846e1b2ea8652926535729c9d3b4f4'\n",
    "mydict = {'name' : []}\n",
    "geography = pd.read_csv('countries.csv')\n",
    "#geography.sample(10)\n",
    "names = geography['name'].to_list()\n",
    "#print(names)\n",
    "#names = ['Spain']\n",
    "\n",
    "# create a dictionary to store top 5 songs\n",
    "for i in range(maxsongs):\n",
    "    mydict['track' + str(i+1)] = []\n",
    "    mydict['artist' + str(i+1)] = []  \n",
    "\n",
    "for name in names:\n",
    "    url = f'https://ws.audioscrobbler.com/2.0/?method=geo.gettoptracks&country={name}&api_key={apikey}&format=json&limit={str(maxsongs)}'\n",
    "    response = requests.get(url)\n",
    "    content = response.json()\n",
    "    #print(content)\n",
    "    \n",
    "    num = int(content['tracks']['@attr']['total'])\n",
    "    #print(num)\n",
    "        \n",
    "    mydict['name'].append(name)\n",
    "    for i in range(maxsongs):\n",
    "        if i < num:\n",
    "            mydict['track' + str(i+1)].append(content['tracks']['track'][i]['name'])\n",
    "            mydict['artist' + str(i+1)].append(content['tracks']['track'][i]['artist']['name'])\n",
    "        else:\n",
    "            mydict['track' + str(i+1)].append('None')\n",
    "            mydict['artist' + str(i+1)].append('None')\n",
    "\n",
    "toptracks = pd.DataFrame.from_dict(mydict)\n",
    "#display(toptracks)\n",
    "\n",
    "df = pd.merge(left=toptracks, right=geography)\n",
    "#display(df)\n"
   ]
  },
  {
   "cell_type": "code",
   "execution_count": 9,
   "metadata": {},
   "outputs": [
    {
     "name": "stdout",
     "output_type": "stream",
     "text": [
      "please wait\n"
     ]
    }
   ],
   "source": [
    "import folium\n",
    "print('please wait')\n",
    "center = (0, 0)\n",
    "country_geojson = 'https://raw.githubusercontent.com/datasets/geo-countries/master/data/countries.geojson'\n",
    "map1 = folium.Map(location=center, zoom_start=2)\n",
    "folium.Choropleth(geo_data=country_geojson).add_to(map1)\n",
    "\n",
    "for row in df.to_records():\n",
    "    pos = (row['latitude'],row['longitude'])\n",
    "    message = f\"Top {maxsongs} songs in {row['name']}: 1- {row['track1']} by {row['artist1']} \\n 2- {row['track2']} by {row['artist2']} \\n 3- {row['track3']} by {row['artist3']} \\n 4- { row['track4']} by {row['artist4']} \\n 5- {row['track5']} by {row['artist5']}\"\n",
    "    marker = folium.Marker(location=pos, \n",
    "                    popup=message\n",
    "                          )\n",
    "    map1.add_child(marker)\n",
    "\n",
    "map1"
   ]
  },
  {
   "cell_type": "code",
   "execution_count": null,
   "metadata": {},
   "outputs": [],
   "source": []
  }
 ],
 "metadata": {
  "kernelspec": {
   "display_name": "Python 3",
   "language": "python",
   "name": "python3"
  },
  "language_info": {
   "codemirror_mode": {
    "name": "ipython",
    "version": 3
   },
   "file_extension": ".py",
   "mimetype": "text/x-python",
   "name": "python",
   "nbconvert_exporter": "python",
   "pygments_lexer": "ipython3",
   "version": "3.7.6"
  }
 },
 "nbformat": 4,
 "nbformat_minor": 2
}
